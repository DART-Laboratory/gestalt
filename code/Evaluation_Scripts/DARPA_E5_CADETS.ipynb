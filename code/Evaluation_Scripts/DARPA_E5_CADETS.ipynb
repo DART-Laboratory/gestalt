{
 "cells": [
  {
   "cell_type": "code",
   "execution_count": 86,
   "metadata": {
    "id": "F1op-CbyLuN4"
   },
   "outputs": [],
   "source": [
    "'''\n",
    "Importing the required libraries here\n",
    "'''\n",
    "os.chdir(\"/home/jovyan/aron_workdir/gestalt/code/Evaluation_Scripts\")\n",
    "exec(open(\"Imports.py\").read())\n",
    "\n",
    "device = torch.device(\"cuda\" if torch.cuda.is_available() else \"cpu\")\n",
    "%matplotlib inline"
   ]
  },
  {
   "cell_type": "code",
   "execution_count": 88,
   "metadata": {},
   "outputs": [
    {
     "name": "stdin",
     "output_type": "stream",
     "text": [
      "Enter directory path (Press Enter to use default '/home/jovyan/Trustwatch'):  \n"
     ]
    },
    {
     "name": "stdout",
     "output_type": "stream",
     "text": [
      "/home/jovyan/Trustwatch\n",
      "Already in the specified directory.\n",
      "Current directory: /home/jovyan/Trustwatch\n"
     ]
    }
   ],
   "source": [
    "# Default path to the \"Trustwatch\" directory\n",
    "default_directory = \"/home/jovyan/Trustwatch\"\n",
    "\n",
    "# Prompt the user for a directory path, with the default if nothing is entered\n",
    "user_directory = input(f\"Enter directory path (Press Enter to use default '{default_directory}'): \") or default_directory\n",
    "print(user_directory)\n",
    "# Check if we're already in the desired directory\n",
    "if os.getcwd() == user_directory:\n",
    "    print(\"Already in the specified directory.\")\n",
    "else:\n",
    "    print(f\"Changing to directory: {user_directory}\")\n",
    "    os.chdir(user_directory)\n",
    "\n",
    "# Confirm the current directory\n",
    "print(\"Current directory:\", os.getcwd())"
   ]
  },
  {
   "cell_type": "code",
   "execution_count": 89,
   "metadata": {},
   "outputs": [],
   "source": [
    "def train_test_split():\n",
    "    \n",
    "    df = pd.read_parquet('e5_data/cadets_df.parquet')\n",
    "    df['timestamp'] = pd.to_datetime(df['timestamp'], format='mixed')\n",
    "\n",
    "    start_range_end = '2019-05-9 00:00:00'\n",
    "    \n",
    "    df_ben = df[df['timestamp'] <= start_range_end]\n",
    "    \n",
    "    grouped = df_ben.groupby('hostid')\n",
    "    hostdfs = {group: data for group, data in grouped}\n",
    "    return hostdfs"
   ]
  },
  {
   "cell_type": "code",
   "execution_count": 90,
   "metadata": {},
   "outputs": [],
   "source": [
    "hostdfs = train_test_split()"
   ]
  },
  {
   "cell_type": "markdown",
   "metadata": {},
   "source": [
    "## Loading libraries and setting up working directory"
   ]
  },
  {
   "cell_type": "code",
   "execution_count": 91,
   "metadata": {
    "tags": []
   },
   "outputs": [],
   "source": [
    "num_of_ctg = 10\n",
    "learning_rounds = 5\n",
    "epochs = 10\n",
    "hosts = list(hostdfs.keys())\n",
    "TRAIN=False"
   ]
  },
  {
   "cell_type": "markdown",
   "metadata": {},
   "source": [
    "## Defining functions for loading, cleaning and constructing features from the data"
   ]
  },
  {
   "cell_type": "code",
   "execution_count": 92,
   "metadata": {
    "id": "BfjmrhfUr3pK"
   },
   "outputs": [],
   "source": [
    "'''\n",
    "This is the main featurizer. It constructs the graph for the cadets dataset.\n",
    "\n",
    "Args:\n",
    "    df (DataFrame): This is the main dataframe containing all the system events from the cadets dataset.\n",
    "\n",
    "return:\n",
    "    features (list): Contains word2vec encoded feature vectors for each node\n",
    "    feat_labels (list): Contains label for each node\n",
    "    edge_index (list): Contains information about edges between nodes in the graph.\n",
    "    mapp (list): contains id of each node\n",
    "'''\n",
    "\n",
    "tokens = ['SUBJECT_PROCESS',\n",
    "          'FILE_OBJECT_FILE',\n",
    "          'NETFLOW']\n",
    "\n",
    "def prepare_graph(df):\n",
    "    global tokens\n",
    "    dummies = {token: index for index, token in enumerate(tokens)}\n",
    "    \n",
    "    df['actor_label'] = df['actor_type'].map(dummies)\n",
    "    df['object_label'] = df['object'].map(dummies)\n",
    "    \n",
    "    nodes = {}\n",
    "    labels = {}\n",
    "    for col in ['actorID', 'objectID']:\n",
    "        unique_ids = df[col].unique()\n",
    "        for uid in unique_ids:\n",
    "            nodes[uid] = []\n",
    "        if col == 'actorID':\n",
    "            labels.update(df.set_index('actorID')['actor_label'].to_dict())\n",
    "        else:\n",
    "            labels.update(df.set_index('objectID')['object_label'].to_dict())\n",
    "    \n",
    "    for _, row in df.iterrows():\n",
    "        nodes[row['actorID']].extend([row['exec'], row['action']])\n",
    "        nodes[row['objectID']].extend([row['exec'], row['action']])\n",
    "        if row['path'] != '':\n",
    "            nodes[row['actorID']].append(row['path'])\n",
    "            nodes[row['objectID']].append(row['path'])\n",
    "    \n",
    "    edges = list(zip(df['actorID'], df['objectID']))\n",
    "\n",
    "    mapp = list(nodes.keys())\n",
    "    features = [nodes[node_id] for node_id in mapp]\n",
    "    feat_labels = [labels[node_id] for node_id in mapp]\n",
    "    edge_index = [[], []]\n",
    "    index_map = {node_id: index for index, node_id in enumerate(mapp)}\n",
    "    \n",
    "    for src, dst in edges:\n",
    "        edge_index[0].append(index_map[src])\n",
    "        edge_index[1].append(index_map[dst])\n",
    "    \n",
    "    all_procs = list(df['actorID'].unique())\n",
    "    idx_to_proc = {index: proc for index, proc in enumerate(all_procs)}\n",
    "\n",
    "    return features, feat_labels, edge_index, mapp, all_procs, idx_to_proc"
   ]
  },
  {
   "cell_type": "code",
   "execution_count": 93,
   "metadata": {},
   "outputs": [],
   "source": [
    "# from torch_geometric.nn import GCNConv\n",
    "# from torch_geometric.nn import SAGEConv, GATConv\n",
    "# import torch.nn.functional as F\n",
    "# import torch.nn as nn\n",
    "\n",
    "class GCN(torch.nn.Module):\n",
    "    def __init__(self,in_channel,out_channel):\n",
    "        super(GCN, self).__init__()\n",
    "        self.conv1 = SAGEConv(in_channel, 32, normalize=True)\n",
    "        self.conv2 = SAGEConv(32, out_channel, normalize=True)\n",
    "\n",
    "    def forward(self, x: torch.Tensor, edge_index: torch.Tensor) -> torch.Tensor:\n",
    "    \n",
    "        x = self.encode(x, edge_index)\n",
    "        return F.softmax(x, dim=1)\n",
    "    \n",
    "    def encode(self, x: torch.Tensor, edge_index: torch.Tensor) -> torch.Tensor:\n",
    "        \n",
    "        x = self.conv1(x, edge_index)\n",
    "        x = F.tanh(x)\n",
    "        x = self.conv2(x, edge_index)\n",
    "        return x\n",
    "    \n",
    "    def freeze_conv_layers(self):\n",
    "        for param in self.conv1.parameters():\n",
    "            param.requires_grad = False\n",
    "        for param in self.conv2.parameters():\n",
    "            param.requires_grad = False"
   ]
  },
  {
   "cell_type": "code",
   "execution_count": 94,
   "metadata": {
    "id": "YBuP_tSq94f4"
   },
   "outputs": [],
   "source": [
    "'''\n",
    "This function helps visualize the output of the model.\n",
    "'''\n",
    "def visualize(h, color):\n",
    "    z = TSNE(n_components=2).fit_transform(h.detach().cpu().numpy())\n",
    "\n",
    "    plt.figure(figsize=(10,10))\n",
    "    plt.xticks([])\n",
    "    plt.yticks([])\n",
    "\n",
    "    plt.scatter(z[:, 0], z[:, 1], s=70, c=color, cmap=\"Set2\")\n",
    "    plt.show()"
   ]
  },
  {
   "cell_type": "code",
   "execution_count": 95,
   "metadata": {},
   "outputs": [],
   "source": [
    "def combine_word2vec_models(models):\n",
    "    # Convert the first model's vectors into a dictionary\n",
    "    unified_dict = {word: models[0].wv[word] for word in models[0].wv.index_to_key}\n",
    "\n",
    "    # Iterate through the remaining models\n",
    "    for model in models[1:]:\n",
    "        model_dict = {word: model.wv[word] for word in model.wv.index_to_key}\n",
    "\n",
    "        # Iterate through words in the current model\n",
    "        for word, vector in model_dict.items():\n",
    "            if word in unified_dict:\n",
    "                # Average the vectors for overlapping words\n",
    "                unified_dict[word] = (unified_dict[word] + vector) / 2.0\n",
    "            else:\n",
    "                # Add unique words directly\n",
    "                unified_dict[word] = vector\n",
    "                \n",
    "    unified_dict = {word: vector.tolist() if isinstance(vector, np.ndarray) else vector for word, vector in unified_dict.items()}\n",
    "\n",
    "    return unified_dict"
   ]
  },
  {
   "cell_type": "code",
   "execution_count": 96,
   "metadata": {},
   "outputs": [],
   "source": [
    "# from gensim.models.callbacks import CallbackAny2Vec\n",
    "# import gensim\n",
    "# from gensim.models import Word2Vec\n",
    "# from multiprocessing import Pool\n",
    "# from itertools import compress\n",
    "# from tqdm import tqdm\n",
    "# import time"
   ]
  },
  {
   "cell_type": "code",
   "execution_count": 97,
   "metadata": {},
   "outputs": [],
   "source": [
    "class EpochSaver(CallbackAny2Vec):\n",
    "    '''Callback to save model after each epoch.'''\n",
    "\n",
    "    def __init__(self,filename):\n",
    "        self.epoch = 0\n",
    "        self.filename = filename\n",
    "\n",
    "    def on_epoch_end(self, model):\n",
    "        model.save(self.filename)\n",
    "        self.epoch += 1"
   ]
  },
  {
   "cell_type": "code",
   "execution_count": 98,
   "metadata": {},
   "outputs": [],
   "source": [
    "class EpochLogger(CallbackAny2Vec):\n",
    "    '''Callback to log information about training'''\n",
    "\n",
    "    def __init__(self):\n",
    "        self.epoch = 0\n",
    "\n",
    "    def on_epoch_begin(self, model):\n",
    "        print(\"Epoch #{} start\".format(self.epoch))\n",
    "\n",
    "    def on_epoch_end(self, model):\n",
    "        print(\"Epoch #{} end\".format(self.epoch))\n",
    "        self.epoch += 1"
   ]
  },
  {
   "cell_type": "code",
   "execution_count": 99,
   "metadata": {},
   "outputs": [],
   "source": [
    "def train_word2vec_models():\n",
    "    global hosts,hostdfs\n",
    "    \n",
    "    for h in hosts:\n",
    "        print(\"Running host:\",h)\n",
    "        logger = EpochLogger()\n",
    "        saver = EpochSaver(f\"Content_FL_Exp/{h}.model\")\n",
    "\n",
    "        df = hostdfs[h]\n",
    "        df = df[df['actor_type'] == 'SUBJECT_PROCESS'] \n",
    "        df = df[df['object'].isin(tokens)] \n",
    "\n",
    "        phrases,feat_labels,edge_index,mapp,all_procs,idx_to_proc = prepare_graph(df)\n",
    "        word2vec = Word2Vec(sentences=phrases, vector_size=30, window=5, min_count=1, workers=5,epochs=100,callbacks=[saver,logger])"
   ]
  },
  {
   "cell_type": "code",
   "execution_count": 100,
   "metadata": {},
   "outputs": [],
   "source": [
    "if TRAIN:\n",
    "    word_models = []\n",
    "    for m in hosts:\n",
    "        word2vec = Word2Vec.load(f\"Content_FL_Exp/{m}.model\")\n",
    "        word_models.append(word2vec)\n",
    "        \n",
    "    global_word = combine_word2vec_models(word_models)\n",
    "\n",
    "    with open('Content_FL_Exp/e5_cadets_word2vec_global.json', 'w') as json_file:\n",
    "        json.dump(global_word, json_file)"
   ]
  },
  {
   "cell_type": "code",
   "execution_count": 101,
   "metadata": {
    "tags": []
   },
   "outputs": [],
   "source": [
    "def load_word_model():\n",
    "    with open('Content_FL_Exp/e5_cadets_word2vec_global.json', 'r') as json_file:\n",
    "        loaded_dict = json.load(json_file)\n",
    "\n",
    "    converted_dict = {word: np.array(vector) for word, vector in loaded_dict.items()}\n",
    "    return converted_dict"
   ]
  },
  {
   "cell_type": "code",
   "execution_count": 102,
   "metadata": {
    "id": "p3TAi69zI1bO"
   },
   "outputs": [],
   "source": [
    "# from sklearn.utils import class_weight\n",
    "# import torch.nn.functional as F\n",
    "# from torch.nn import CrossEntropyLoss"
   ]
  },
  {
   "cell_type": "code",
   "execution_count": 103,
   "metadata": {
    "id": "Vn_pMyt5Jd-6"
   },
   "outputs": [],
   "source": [
    "from collections import Counter\n",
    "word2vec = load_word_model()\n",
    "\n",
    "def infer(doc):\n",
    "    global word2vec\n",
    "    temp = dict(Counter(doc))\n",
    "    emb = np.zeros(30)\n",
    "    count = 0\n",
    "    for k,v in temp.items():\n",
    "        if k in word2vec:\n",
    "            emb = emb + word2vec[k]*v\n",
    "            count = count + 1\n",
    "    emb = emb / count\n",
    "    return emb"
   ]
  },
  {
   "cell_type": "code",
   "execution_count": 104,
   "metadata": {
    "tags": []
   },
   "outputs": [],
   "source": [
    "def init_gnns():\n",
    "    global num_of_ctg,tokens\n",
    "    n = num_of_ctg \n",
    "    gnn_models = []\n",
    "    for i in range(n):\n",
    "        m = GCN(30,len(tokens)).to(device)\n",
    "        gnn_models.append(m)\n",
    "    return gnn_models"
   ]
  },
  {
   "cell_type": "code",
   "execution_count": 105,
   "metadata": {
    "tags": []
   },
   "outputs": [],
   "source": [
    "def define_categories(pids):\n",
    "    global num_of_ctg\n",
    "    n = num_of_ctg - 1\n",
    "    ctg = set(pids)\n",
    "    ctg = list(ctg)\n",
    "    k, m = divmod(len(ctg), n)\n",
    "    return [set(ctg[i * k + min(i, m):(i + 1) * k + min(i + 1, m)]) for i in range(n)]"
   ]
  },
  {
   "cell_type": "code",
   "execution_count": 106,
   "metadata": {
    "tags": []
   },
   "outputs": [],
   "source": [
    "def map_pids_to_category_indices(pids, categories):\n",
    "    pid_to_category_index = {}\n",
    "    \n",
    "    for pid in pids:\n",
    "        for category_index, category_set in enumerate(categories):\n",
    "            if pid in category_set:\n",
    "                pid_to_category_index[pid] = category_index \n",
    "                break \n",
    "    \n",
    "    return pid_to_category_index"
   ]
  },
  {
   "cell_type": "code",
   "execution_count": 107,
   "metadata": {},
   "outputs": [],
   "source": [
    "# from torch.nn import CrossEntropyLoss\n",
    "# from sklearn.utils import class_weight\n",
    "# import copy\n",
    "\n",
    "templates = init_gnns()\n",
    "\n",
    "def train_gnn_func(nodes,labels,edges,mapp,pids,idx_to_pid):\n",
    "    \n",
    "    global categories ,epochs\n",
    "    \n",
    "    pid_to_gnn_index = map_pids_to_category_indices(pids, categories)\n",
    "    \n",
    "    set_pids = set(pids)\n",
    "\n",
    "    proc_index = [i for i in range(len(mapp)) if mapp[i] in set_pids]\n",
    "\n",
    "    train_splits = [[] for _ in range(len(categories))]\n",
    "\n",
    "    for i in proc_index:\n",
    "        pname = idx_to_pid[str(i)]\n",
    "        split_indx = pid_to_gnn_index[pname]\n",
    "        train_splits[split_indx].append(int(i))\n",
    "        \n",
    "    local_models = [copy.deepcopy(x) for x in templates]\n",
    "    \n",
    "    for i in range(len(local_models)-1):\n",
    "            \n",
    "        if len(train_splits[i]) == 0:\n",
    "            local_models[i] = None\n",
    "        else:\n",
    "            if f\"target_e5_cadets_global{i}.pth\" in os.listdir(\"Content_FL_Exp\"):\n",
    "                local_models[i].load_state_dict(torch.load(f\"Content_FL_Exp/target_e5_cadets_global{i}.pth\"))\n",
    "\n",
    "            optimizer = torch.optim.Adam(local_models[i].parameters(), lr=0.01, weight_decay=5e-4)\n",
    "            criterion = CrossEntropyLoss()\n",
    "\n",
    "            graph = Data(x=torch.tensor(nodes,dtype=torch.float).to(device),y=torch.tensor(labels,dtype=torch.long).to(device), edge_index=torch.tensor(edges,dtype=torch.long).to(device))\n",
    "            mask = torch.tensor([False]*graph.num_nodes, dtype=torch.bool)\n",
    "            mask[train_splits[i]] = True\n",
    "            \n",
    "            def get_neighbors(edge_index, nodes):\n",
    "                neighbors = []\n",
    "                for node in nodes:\n",
    "                    mask = edge_index[0] == node\n",
    "                    neighbors.extend(edge_index[1, mask].tolist())\n",
    "                return torch.tensor(list(set(neighbors)), dtype=torch.long)\n",
    "\n",
    "            one_hop_neighbors = get_neighbors(graph.edge_index, train_splits[i])\n",
    "            two_hop_neighbors = get_neighbors(graph.edge_index, one_hop_neighbors)\n",
    "            two_hop_neighbors = two_hop_neighbors[~mask[two_hop_neighbors]]\n",
    "            mask[two_hop_neighbors] = True\n",
    "            \n",
    "            for epoch in range(epochs):\n",
    "                print(f'Training GNN Category {i} Model for Epoch {epoch}')\n",
    "\n",
    "                loader = NeighborLoader(graph, num_neighbors=[-1,-1], batch_size=5000,input_nodes=mask)\n",
    "                total_loss = 0\n",
    "                for subg in loader:\n",
    "                    local_models[i].train()\n",
    "                    optimizer.zero_grad() \n",
    "                    out = local_models[i](subg.x, subg.edge_index) \n",
    "                    loss = criterion(out, subg.y) \n",
    "                    loss.backward() \n",
    "                    optimizer.step()      \n",
    "                    total_loss += loss.item() * subg.batch_size\n",
    "                print(\"Loss: \", total_loss / mask.sum().item(), '\\n')\n",
    "    \n",
    "    graph = Data(x=torch.tensor(nodes,dtype=torch.float).to(device),y=torch.tensor(labels,dtype=torch.long).to(device), edge_index=torch.tensor(edges,dtype=torch.long).to(device))\n",
    "    optimizer = torch.optim.Adam(local_models[-1].parameters(), lr=0.01, weight_decay=5e-4)\n",
    "    criterion = CrossEntropyLoss()\n",
    "    \n",
    "    for epoch in range(epochs):\n",
    "        print(f'Training Catch all GNN Category Model for Epoch {epoch}')    \n",
    "        local_models[-1].train()\n",
    "        optimizer.zero_grad() \n",
    "        out = local_models[-1](graph.x, graph.edge_index) \n",
    "        loss = criterion(out, graph.y) \n",
    "        loss.backward() \n",
    "        optimizer.step()      \n",
    "        print(f\"Epoch: {epoch}, Loss: {loss.item()}\")\n",
    "\n",
    "    return local_models"
   ]
  },
  {
   "cell_type": "code",
   "execution_count": 108,
   "metadata": {},
   "outputs": [],
   "source": [
    "procs_total = []\n",
    "data_cache = {}\n",
    "categories = None\n",
    "\n",
    "def load_clients_data():\n",
    "    \n",
    "    global data_cache,categories,procs_total,tokens,hostdfs,hosts\n",
    "    \n",
    "    for name in hosts:\n",
    "        df = hostdfs[name]\n",
    "        df = df[df['actor_type'] == 'SUBJECT_PROCESS'] \n",
    "        df = df[df['object'].isin(tokens)]    \n",
    "\n",
    "        docs,labels,edges,mapp,pids,idx_to_pid = prepare_graph(df)\n",
    "        data_cache[name] = [docs,labels,edges,mapp,pids,idx_to_pid]\n",
    "        procs_total = procs_total + pids\n",
    "\n",
    "    categories = define_categories(procs_total)"
   ]
  },
  {
   "cell_type": "code",
   "execution_count": 109,
   "metadata": {
    "tags": []
   },
   "outputs": [],
   "source": [
    "def client_handling_loop(client_id):    \n",
    "    print(f\"Running Setup on Client {client_id} \\n\")\n",
    "    \n",
    "    docs,labels,edges,mapp,pids,idx_to_pid = data_cache[client_id]\n",
    "    \n",
    "    nodes_feat = []\n",
    "    for x in docs:\n",
    "        nodes_feat.append(infer(x)) \n",
    "        \n",
    "    trained_local_models = train_gnn_func(nodes_feat,labels,edges,mapp,pids,idx_to_pid)\n",
    "    return trained_local_models"
   ]
  },
  {
   "cell_type": "code",
   "execution_count": 110,
   "metadata": {},
   "outputs": [],
   "source": [
    "def server_aggregate(all_models):\n",
    "    global_models = copy.deepcopy(templates)\n",
    "    \n",
    "    for l in range(len(all_models)):\n",
    "        \n",
    "        current_models = all_models[l]\n",
    "        current_models = [x for x in current_models if x != None]\n",
    "        \n",
    "        if not len(current_models) == 0:\n",
    "        \n",
    "            global_dict = global_models[l].state_dict()\n",
    "\n",
    "            for k in global_dict.keys():\n",
    "                param_list = [current_models[i].state_dict()[k] for i in range(len(current_models))]\n",
    "                global_dict[k] = torch.stack(param_list, 0).mean(0)\n",
    "\n",
    "            global_models[l].load_state_dict(global_dict)\n",
    "            torch.save(global_models[l].state_dict(), f\"Content_FL_Exp/target_e5_cadets_global{l}.pth\")\n",
    "                   \n",
    "    return global_models"
   ]
  },
  {
   "cell_type": "code",
   "execution_count": 111,
   "metadata": {
    "tags": []
   },
   "outputs": [],
   "source": [
    "def perform_federated_learning(n_clients):\n",
    "    client_models = []\n",
    "    for c in n_clients:\n",
    "        local_gnns = client_handling_loop(c)\n",
    "        client_models.append(local_gnns)\n",
    "    return client_models"
   ]
  },
  {
   "cell_type": "code",
   "execution_count": 112,
   "metadata": {
    "tags": []
   },
   "outputs": [],
   "source": [
    "if TRAIN:\n",
    "    !rm Content_FL_Exp/target_e5_cadets*.pth"
   ]
  },
  {
   "cell_type": "code",
   "execution_count": 113,
   "metadata": {
    "tags": []
   },
   "outputs": [],
   "source": [
    "with open('Content_FL_Exp/e5_cadets_ensemble_ben.json', 'r') as f:\n",
    "    data_cache = json.load(f)\n",
    "\n",
    "proc_total = []\n",
    "for x in hosts:\n",
    "    proc_total = proc_total + data_cache[x][-2]\n",
    "    \n",
    "categories = define_categories(proc_total)"
   ]
  },
  {
   "cell_type": "code",
   "execution_count": 114,
   "metadata": {},
   "outputs": [],
   "source": [
    "#load_clients_data()"
   ]
  },
  {
   "cell_type": "code",
   "execution_count": 115,
   "metadata": {
    "tags": []
   },
   "outputs": [],
   "source": [
    "if TRAIN:\n",
    "    for r in range(learning_rounds):\n",
    "        print(f\"Federated Learning Round Number: {r}\\n\")\n",
    "        client_models = perform_federated_learning(hosts)\n",
    "        arranged_models =  [list(group) for group in zip(*client_models)]\n",
    "        global_models = server_aggregate(arranged_models)"
   ]
  },
  {
   "cell_type": "markdown",
   "metadata": {},
   "source": [
    "## Evaluation of the trained GNN model starts here"
   ]
  },
  {
   "cell_type": "code",
   "execution_count": 116,
   "metadata": {
    "id": "PKJ53Fh5ogvy"
   },
   "outputs": [],
   "source": [
    "'''\n",
    "This function is used for constructing neighborhood around a given \n",
    "set of nodes for backwards or forward tracking\n",
    "'''\n",
    "# from itertools import compress\n",
    "# from torch_geometric import utils\n",
    "\n",
    "def construct_neighborhood(ids,mapp,edges,hops):\n",
    "    if hops == 0:\n",
    "        return set()\n",
    "    else:\n",
    "        neighbors = set()\n",
    "        for i in range(len(edges[0])):\n",
    "            if mapp[edges[0][i]] in ids:\n",
    "                neighbors.add(mapp[edges[1][i]])\n",
    "            if mapp[edges[1][i]] in ids:\n",
    "                neighbors.add(mapp[edges[0][i]])\n",
    "        return neighbors.union( construct_neighborhood(neighbors,mapp,edges,hops-1) )"
   ]
  },
  {
   "cell_type": "code",
   "execution_count": 117,
   "metadata": {
    "id": "vgqyu7E5qPet"
   },
   "outputs": [],
   "source": [
    "'''\n",
    "This function logs the evaluation metrics.\n",
    "'''\n",
    "\n",
    "def helper(MP,all_pids,GP,edges,mapp):\n",
    "\n",
    "    TP = MP.intersection(GP)  \n",
    "    FP = MP - GP              \n",
    "    FN = GP - MP              \n",
    "    TN = all_pids - (GP | MP)\n",
    "    \n",
    "    two_hop_gp = construct_neighborhood(GP,mapp,edges,2)\n",
    "    two_hop_tp = construct_neighborhood(TP,mapp,edges,2)\n",
    "    FPL = FP - two_hop_gp\n",
    "    TPL = TP.union(FN.intersection(two_hop_tp))\n",
    "    FN = FN - two_hop_tp\n",
    "    \n",
    "    alerts = TP.union(FP)\n",
    "\n",
    "    TP,FP,FN,TN = len(TPL),len(FPL),len(FN),len(TN)\n",
    "    \n",
    "    FPR = FP / (FP+TN)\n",
    "    TPR = TP / (TP+FN)\n",
    "\n",
    "    print(f\"Number of True Positives: {TP}\")\n",
    "    print(f\"Number of Fasle Positives: {FP}\")\n",
    "    print(f\"Number of False Negatives: {FN}\")\n",
    "\n",
    "    prec = TP / (TP + FP)\n",
    "    print(f\"Precision: {prec}\")\n",
    "\n",
    "    rec = TP / (TP + FN)\n",
    "    print(f\"Recall: {rec}\")\n",
    "\n",
    "    fscore = (2*prec*rec) / (prec + rec)\n",
    "    print(f\"Fscore: {fscore}\\n\")\n",
    "    \n",
    "    #return alerts\n",
    "    return TP, FP, FN, TN"
   ]
  },
  {
   "cell_type": "code",
   "execution_count": 118,
   "metadata": {
    "tags": []
   },
   "outputs": [],
   "source": [
    "def generate_groundtruth():\n",
    "    \n",
    "    df = pd.read_parquet('e5_data/cadets_df.parquet')\n",
    "    df['timestamp'] = pd.to_datetime(df['timestamp'], format='mixed')\n",
    "    \n",
    "    df = df[df['actor_type'] == 'SUBJECT_PROCESS'] \n",
    "    df = df[df['object'].isin(tokens)]\n",
    "\n",
    "    timestamps = [\n",
    "        ('2019-05-16 09:20:32.093582942', '2019-05-16 09:36:08.903494477'),\n",
    "        ('2019-05-16 09:36:08.903494477', '2019-05-16 09:51:22.110949680'),\n",
    "        ('2019-05-16 09:51:22.110949680', '2019-05-16 10:06:29.403713371'),\n",
    "        ('2019-05-16 10:06:29.403713371', '2019-05-16 10:21:47.983513184'),\n",
    "        ('2019-05-16 20:32:27.570220441', '2019-05-16 20:48:38.072848659'),\n",
    "        ('2019-05-16 21:19:00.930018779', '2019-05-16 21:34:46.231624861'),\n",
    "        ('2019-05-16 21:34:46.231624861', '2019-05-16 21:49:46.992678639'),\n",
    "        ('2019-05-16 21:49:46.992678639', '2019-05-16 22:06:14.950154813'),\n",
    "        ('2019-05-16 22:06:14.950154813', '2019-05-16 22:21:40.662702391'),\n",
    "        ('2019-05-16 22:21:40.662702391', '2019-05-16 22:36:45.602858389'),\n",
    "        ('2019-05-16 22:36:45.602858389', '2019-05-16 22:51:51.220035024'),\n",
    "        ('2019-05-16 22:51:51.220035024', '2019-05-16 23:07:16.890296254'),\n",
    "        ('2019-05-16 23:07:16.890296254', '2019-05-16 23:22:54.052353000'),\n",
    "        ('2019-05-17 10:02:11.321524261', '2019-05-17 10:17:26.881636687'),\n",
    "        ('2019-05-17 10:17:26.881636687', '2019-05-17 10:32:38.131495470'),\n",
    "        ('2019-05-17 10:32:38.131495470', '2019-05-17 10:48:02.091564015')\n",
    "    ]\n",
    "\n",
    "    filtered_dfs = []  \n",
    "\n",
    "    for start_time, end_time in timestamps:\n",
    "\n",
    "        # Filter df for rows where the timestamp column is within the start and end times\n",
    "        mask = (pd.to_datetime(df['timestamp']) >= start_time) & (pd.to_datetime(df['timestamp']) <= end_time)\n",
    "        filtered_df = df.loc[mask]\n",
    "\n",
    "        # Append the filtered DataFrame to the list\n",
    "        filtered_dfs.append(filtered_df)\n",
    "        \n",
    "    concatenated_df = pd.concat(filtered_dfs)\n",
    "\n",
    "    # Extract unique 'actorID' and 'objectID' values\n",
    "    unique_actorIDs = set(concatenated_df['actorID'].unique())\n",
    "    unique_objectIDs = set(concatenated_df['objectID'].unique())\n",
    "\n",
    "    # Combine the sets of 'actorID' and 'objectID' values\n",
    "    unified_set = unique_actorIDs.union(unique_objectIDs)\n",
    "    \n",
    "    return unified_set"
   ]
  },
  {
   "cell_type": "code",
   "execution_count": 119,
   "metadata": {
    "tags": []
   },
   "outputs": [],
   "source": [
    "GT_mal = generate_groundtruth()"
   ]
  },
  {
   "cell_type": "code",
   "execution_count": 120,
   "metadata": {},
   "outputs": [],
   "source": [
    "def load_data_test():\n",
    "\n",
    "    df = pd.read_parquet('e5_data/cadets_df.parquet')\n",
    "    df['timestamp'] = pd.to_datetime(df['timestamp'], format='mixed')\n",
    "\n",
    "    second_range_start = '2019-05-16 00:00:00'\n",
    "    second_range_end = '2019-05-17 00:00:00'\n",
    "\n",
    "    df = df[(df['timestamp'] >= second_range_start) & (df['timestamp'] <= second_range_end)]\n",
    "    \n",
    "    df = df[df['actor_type'] == 'SUBJECT_PROCESS'] \n",
    "    df = df[df['object'].isin(tokens)]\n",
    "\n",
    "    docs,labels,edges,mapp,pids,idx_to_pid = prepare_graph(df)\n",
    "    return [docs,labels,edges,mapp,pids,idx_to_pid], df"
   ]
  },
  {
   "cell_type": "code",
   "execution_count": 121,
   "metadata": {},
   "outputs": [],
   "source": [
    "#data_mal = load_data_test()"
   ]
  },
  {
   "cell_type": "code",
   "execution_count": 122,
   "metadata": {},
   "outputs": [],
   "source": [
    "with open('e5_data/cadets_mal_proc.json', 'r') as file:\n",
    "    data_mal =  json.load(file)"
   ]
  },
  {
   "cell_type": "code",
   "execution_count": 123,
   "metadata": {},
   "outputs": [],
   "source": [
    "def run_evaluation(thresh):    \n",
    "    global word2vec,tokens,GT_mal\n",
    "            \n",
    "    phrases,labels,edges,mapp,pids,idx_to_pid = data_mal\n",
    "\n",
    "    model = GCN(30,len(tokens)).to(device)\n",
    "    word2vec = load_word_model()\n",
    "\n",
    "    nodes = [infer(x) for x in phrases]\n",
    "    nodes = np.array(nodes)  \n",
    "\n",
    "    all_ids = set(mapp)\n",
    "        \n",
    "    graph = Data(x=torch.tensor(nodes,dtype=torch.float).to(device),y=torch.tensor(labels,dtype=torch.long).to(device), edge_index=torch.tensor(edges,dtype=torch.long).to(device))\n",
    "\n",
    "    flag = torch.tensor([True]*graph.num_nodes, dtype=torch.bool)\n",
    "    \n",
    "    for m_n in range(num_of_ctg):\n",
    "        if f\"target_e5_cadets_global{m_n}.pth\" in os.listdir(\"Content_FL_Exp\"): \n",
    "            model.load_state_dict(torch.load(f\"Content_FL_Exp/target_e5_cadets_global{m_n}.pth\",map_location=torch.device('cpu')))\n",
    "            \n",
    "        model.eval()\n",
    "        out = model(graph.x, graph.edge_index)\n",
    "    \n",
    "        sorted, indices = out.sort(dim=1,descending=True)\n",
    "        conf = (sorted[:,0] - sorted[:,1]) / sorted[:,0]\n",
    "        conf = (conf - conf.min()) / conf.max()\n",
    "    \n",
    "        pred = indices[:,0]\n",
    "        cond = (pred == graph.y) & (conf >= thresh)\n",
    "        flag[cond] = torch.logical_and(flag[cond], torch.tensor([False]*len(flag[cond]), dtype=torch.bool))\n",
    "\n",
    "    index = utils.mask_to_index(flag).tolist()\n",
    "    ids = set([mapp[x] for x in index])\n",
    "    metrics = helper(set(ids),set(all_ids),GT_mal,edges,mapp)\n",
    "    return metrics"
   ]
  },
  {
   "cell_type": "code",
   "execution_count": 124,
   "metadata": {
    "tags": []
   },
   "outputs": [
    {
     "name": "stdout",
     "output_type": "stream",
     "text": [
      "Number of True Positives: 214430\n",
      "Number of Fasle Positives: 113\n",
      "Number of False Negatives: 19827\n",
      "Precision: 0.9994732990589299\n",
      "Recall: 0.9153621876827587\n",
      "Fscore: 0.9555704099821747\n",
      "\n"
     ]
    },
    {
     "data": {
      "text/plain": [
       "(214430, 113, 19827, 831094)"
      ]
     },
     "execution_count": 124,
     "metadata": {},
     "output_type": "execute_result"
    }
   ],
   "source": [
    "run_evaluation(0.95)"
   ]
  }
 ],
 "metadata": {
  "accelerator": "GPU",
  "colab": {
   "provenance": []
  },
  "gpuClass": "standard",
  "kernelspec": {
   "display_name": "Python 3 (ipykernel)",
   "language": "python",
   "name": "python3"
  },
  "language_info": {
   "codemirror_mode": {
    "name": "ipython",
    "version": 3
   },
   "file_extension": ".py",
   "mimetype": "text/x-python",
   "name": "python",
   "nbconvert_exporter": "python",
   "pygments_lexer": "ipython3",
   "version": "3.11.6"
  }
 },
 "nbformat": 4,
 "nbformat_minor": 4
}
