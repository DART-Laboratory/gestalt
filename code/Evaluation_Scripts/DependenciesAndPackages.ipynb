{
 "cells": [
  {
   "cell_type": "code",
   "execution_count": null,
   "id": "4294dce8-77e7-45fb-b2d8-1fc8f9882047",
   "metadata": {},
   "outputs": [],
   "source": [
    "%pip install pandas numpy scikit-learn torch torch-geometric matplotlib gensim"
   ]
  }
 ],
 "metadata": {
  "kernelspec": {
   "display_name": "Python 3 (ipykernel)",
   "language": "python",
   "name": "python3"
  },
  "language_info": {
   "codemirror_mode": {
    "name": "ipython",
    "version": 3
   },
   "file_extension": ".py",
   "mimetype": "text/x-python",
   "name": "python",
   "nbconvert_exporter": "python",
   "pygments_lexer": "ipython3",
   "version": "3.11.5"
  }
 },
 "nbformat": 4,
 "nbformat_minor": 5
}
