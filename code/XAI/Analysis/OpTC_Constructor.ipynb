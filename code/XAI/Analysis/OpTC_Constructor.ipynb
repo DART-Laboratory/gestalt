{
 "cells": [
  {
   "cell_type": "markdown",
   "metadata": {},
   "source": [
    "# GNNExplainer Results"
   ]
  },
  {
   "cell_type": "markdown",
   "metadata": {},
   "source": [
    "| Dataset      | True Positives (TP) | False Positives (FP) | False Negatives (FN) | True Negatives (TN) | Precision           | Recall             | F1-Score           |\n",
    "|-------------|----------------------|----------------------|-----------------------|----------------------|---------------------|--------------------|--------------------|\n",
    "| OPTC A1     | 4                    | 3,021                | 65                    | 501,987              | 0.0013              | 0.0580             | 0.0026             |\n",
    "| OPTC A2     | 29                   | 3,377                | 595                   | 582,940              | 0.0085              | 0.0465             | 0.0142             |\n",
    "| OPTC A3     | 4                    | 373                  | 87                    | 170,363              | 0.0106              | 0.0440             | 0.0171             |\n",
    "| Theia    | 20                   | 0                    | 39                    | 5,829,109            | 1.0000              | 0.3390             | 0.5063             |"
   ]
  },
  {
   "cell_type": "markdown",
   "metadata": {},
   "source": [
    "# PGExplainer Results"
   ]
  },
  {
   "cell_type": "markdown",
   "metadata": {},
   "source": [
    "\n",
    "| Dataset   | True Positives (TP) | False Positives (FP) | False Negatives (FN) | True Negatives (TN) | Precision         | Recall            | F1-Score         |\n",
    "|-----------|---------------------|----------------------|----------------------|---------------------|-------------------|-------------------|------------------|\n",
    "| OPTC A1   | 4                   | 4064                 | 65                   | 500944              | 0.00098  | 0.05797     | 0.00195          |\n",
    "| OPTC A2   | 29                  | 4946                 | 595                  | 581371              | 0.00583  | 0.04637   | 0.01085          |\n",
    "| OPTC A3   | 4                   | 519                  | 87                   | 170217              | 0.00765   | 0.04396     | 0.00847          |\n",
    "| Theia     | 20                  | 0                    | 39                   | 5829109             | 1.00000   | 0.3390 | 0.5060           |"
   ]
  },
  {
   "cell_type": "code",
   "execution_count": 17,
   "metadata": {
    "executionInfo": {
     "elapsed": 668,
     "status": "ok",
     "timestamp": 1662391384862,
     "user": {
      "displayName": "Mati Ur Rehman",
      "userId": "04281203290774044297"
     },
     "user_tz": -300
    },
    "id": "nM7KaeCbA_mQ"
   },
   "outputs": [],
   "source": [
    "from pprint import pprint\n",
    "import gzip\n",
    "from sklearn.manifold import TSNE\n",
    "import json\n",
    "import copy\n",
    "import os"
   ]
  },
  {
   "cell_type": "code",
   "execution_count": 18,
   "metadata": {},
   "outputs": [],
   "source": [
    "import pandas as pd\n",
    "import numpy as np\n",
    "import gdown\n",
    "import gzip\n",
    "import os\n",
    "\n",
    "def store_events_to_disk(events, path):\n",
    "    out = open(path, 'a')\n",
    "    out.writelines(events)\n",
    "    out.close()\n",
    "    \n",
    "def load_processed_events(path):\n",
    "    inp = open(path, 'r')\n",
    "    events = [line for line in inp]\n",
    "    inp.close()\n",
    "    return events\n",
    "\n",
    "def read_raw_events(path_to_gz_file):\n",
    "    f = gzip.open(path_to_gz_file, 'r')\n",
    "    host_events = []\n",
    "            \n",
    "    for line in f:\n",
    "        event_text = line.decode('utf-8')\n",
    "        event_json = json.loads(event_text)\n",
    "        host = event_json['hostname']\n",
    "        \n",
    "        for hid in ['501','201','051']:\n",
    "            if host == f'SysClient0{hid}.systemia.com':\n",
    "                host_events.append(event_text) \n",
    "    \n",
    "    store_events_to_disk(host_events, 'all_system_events')\n",
    "    return host_events\n",
    "    \n",
    "def generate_ground_labels(events):\n",
    "    events_json = [json.loads(x) for x in events]\n",
    "    df = pd.DataFrame.from_dict(events_json)\n",
    "    df['timestamp'] = df['timestamp'].str[:-6]\n",
    "    df['timestamp'] = pd.to_datetime(df['timestamp'],infer_datetime_format=True)\n",
    "    \n",
    "    gt_pdf = open('gt_pdf.txt').read().split('\\n')\n",
    "    gt_pdf = [x.split('--') for x in gt_pdf]\n",
    "\n",
    "    gt_events = []\n",
    "\n",
    "    for timestamp,host in gt_pdf:\n",
    "        host_df = df[df['hostname'].str.contains(host, case=False)]\n",
    "        in_between = host_df.timestamp.between( pd.to_datetime(timestamp ,infer_datetime_format=True) , pd.to_datetime(timestamp ,infer_datetime_format=True) + pd.Timedelta('300 sec') )\n",
    "\n",
    "        records = host_df[in_between].astype(str).to_dict(orient='records')\n",
    "        stringified_records = [json.dumps(record) for record in records]\n",
    "        \n",
    "        gt_events = gt_events + stringified_records\n",
    "\n",
    "    return gt_events\n",
    "    \n",
    "    \n",
    "def filter_events(events):\n",
    "    true_attack_events = []\n",
    "    \n",
    "    for e in events:\n",
    "        if \"SysClient0501\" in e:\n",
    "            keywords = ['\"ppid\":648','\"ppid\":5076','\"ppid\":1748','payroll.docx','202.6.172.98',\n",
    "                        'bypassuac_eventvwr','privesc','GPP SYSVOL','privesc/bypassuac_env','bypassuac',\n",
    "                        'privesc/bypassuac_fodhelper','WMI','winenum','findtrusteddocuments',\n",
    "                        'fileTransfer1000.exe','plink.exe']\n",
    "            for k in keywords:\n",
    "                if k in e:\n",
    "                    true_attack_events.append(e)\n",
    "                    break\n",
    "        \n",
    "        if \"SysClient0201\" in e:\n",
    "            keywords = ['\"ppid\":5452', '\"ppid\":2952', 'runme.bat', 'mimikatz', 'psinject',\n",
    "                        'news.com:8000','142.20.56.0/24','invoke_wmi','ping.exe','HKCU:Software\\Microsoft\\Windows\\CurrentVersion\\Debug']\n",
    "            for k in keywords:\n",
    "                if k in e:\n",
    "                    true_attack_events.append(e)\n",
    "                    break\n",
    "\n",
    "        if \"SysClient0051\" in e:\n",
    "            keywords = ['\"ppid\":2712', 'update.exe', '142.20.56.0/22', 'cKfGW.exe ', 'lsass',\n",
    "                        '\"ppid\":568', 'C:\\\\Windows\\\\TEMP\\\\myHbYXTpViwX.vbx', 'timestomp', 'mimikatz',\n",
    "                        'HKLM\\\\Software\\\\Microsoft\\\\Windows\\\\CurrentVersion\\\\Run\\\\RTqWaEHv',\n",
    "                        'get_gui']\n",
    "            for k in keywords:\n",
    "                if k in e:\n",
    "                    true_attack_events.append(e)\n",
    "                    break\n",
    "                    \n",
    "        if \"SysClient0402\" in e:\n",
    "            keywords = ['NEK5H8GX','142.20.57.0/24','invoke_wmi']\n",
    "            for k in keywords:\n",
    "                if k in e:\n",
    "                    true_attack_events.append(e)\n",
    "                    break\n",
    "                    \n",
    "        if \"SysClient0660\" in e:\n",
    "            keywords = ['ipconfig','Mimikatz','DS29HY41','psinject','zipfldr.dll','invoke_wmi']\n",
    "            for k in keywords:\n",
    "                if k in e:\n",
    "                    true_attack_events.append(e)\n",
    "                    break\n",
    "        \n",
    "    return true_attack_events\n",
    "    \n",
    "def final_check_ground_labels(events):\n",
    "    checklist = ['GoogleUpdate.exe','svchost.exe']\n",
    "    final_events = []\n",
    "    for x in events:\n",
    "        check = False\n",
    "        for k in checklist:\n",
    "            if k in x:\n",
    "                check = True\n",
    "        if not check:\n",
    "            final_events.append(x)\n",
    "    store_events_to_disk(final_events, \"ground_truth_events\")\n",
    "\n",
    "        \n",
    "def download_datasets():\n",
    "    urls = [\n",
    "         'https://drive.google.com/file/d/1HFSyvmgH0jvdnnnTdKfWRjZYOrLWoIkv/view?usp=drive_link',\n",
    "         'https://drive.google.com/file/d/1pJLxJsDV8sngiedbfVajMetczIgM3PQd/view?usp=drive_link',\n",
    "         'https://drive.google.com/file/d/1r4urs7OuKKTO6Y3-DOUMERwNasGEcRUN/view?usp=drive_link',\n",
    "         'https://drive.google.com/file/d/1O8N3Tc-vN5BTlel9AvJPM5jhug2MjZkL/view?usp=drive_link',\n",
    "         'https://drive.google.com/file/d/13o8h42QM9Gzv84UyRNwlgc9oWicvxExZ/view?usp=drive_link',\n",
    "         'https://drive.google.com/file/d/1fRQqc68r8-z5BL7H_eAKIDOeHp7okDuM/view?usp=drive_link',\n",
    "         'https://drive.google.com/file/d/1VfyGr8wfSe8LBIHBWuYBlU8c2CyEgO5C/view?usp=drive_link',\n",
    "         'https://drive.google.com/file/d/10N9ZPolq_L8HivBqzf_jFKbwjSxddsZp/view?usp=drive_link',\n",
    "         ]\n",
    "\n",
    "    for x in urls:\n",
    "        gdown.download(x, quiet=False, use_cookies=False, fuzzy=True)"
   ]
  },
  {
   "cell_type": "code",
   "execution_count": 19,
   "metadata": {},
   "outputs": [],
   "source": [
    "def main():\n",
    "    download_datasets()\n",
    "    optc_paths = [x for x in os.listdir() if 'json.gz' in x]\n",
    "    for p in optc_paths:\n",
    "        print(f\"Processing file: {p}\")\n",
    "        events = read_raw_events(p)\n",
    "        events = generate_ground_labels(events)\n",
    "        events = filter_events(events)\n",
    "        final_check_ground_labels(events)"
   ]
  },
  {
   "cell_type": "code",
   "execution_count": 20,
   "metadata": {},
   "outputs": [],
   "source": [
    "import json"
   ]
  },
  {
   "cell_type": "code",
   "execution_count": 21,
   "metadata": {},
   "outputs": [],
   "source": [
    "with open(\"ground_truth_events.txt\", \"r\") as file:\n",
    "    content = file.read()  "
   ]
  },
  {
   "cell_type": "code",
   "execution_count": 22,
   "metadata": {},
   "outputs": [],
   "source": [
    "content = content.split('}{')\n",
    "content[0] = content[0] + '}'\n",
    "content[-1] = '{' + content[-1] \n",
    "for i in range(1,len(content)-1):\n",
    "    content[i] = '{' + content[i] + '}'"
   ]
  },
  {
   "cell_type": "code",
   "execution_count": 23,
   "metadata": {},
   "outputs": [],
   "source": [
    "events = []\n",
    "for i in range(len(content)):\n",
    "    event = json.loads(content[i])\n",
    "    events.append(event)"
   ]
  },
  {
   "cell_type": "code",
   "execution_count": 24,
   "metadata": {},
   "outputs": [],
   "source": [
    "import json\n",
    "import re\n",
    "\n",
    "def Extract_Semantic_Info(event):\n",
    "    object_type = event['object']\n",
    "    properties_string = event['properties']\n",
    "\n",
    "    properties = {}\n",
    "    pattern = r\"'([^']+)':\\s*'([^']*)'\"\n",
    "    matches = re.finditer(pattern, properties_string)\n",
    "    for match in matches:\n",
    "        key = match.group(1)\n",
    "        value = match.group(2).replace(\"\\\\\\\\\", \"\\\\\")  \n",
    "        properties[key] = value\n",
    "\n",
    "    label_mapping = {\n",
    "        \"PROCESS\": ('parent_image_path', 'image_path'),\n",
    "        \"FILE\": ('image_path', 'file_path'),\n",
    "        \"MODULE\": ('image_path', 'module_path'),\n",
    "        \"FLOW\": ('image_path', 'dest_ip', 'dest_port')\n",
    "    }\n",
    "\n",
    "    label_keys = label_mapping.get(object_type, None)\n",
    "    if label_keys:\n",
    "        labels = [properties.get(key) for key in label_keys]\n",
    "        if all(labels):\n",
    "            event[\"actorname\"], event[\"objectname\"] = labels[0], ' '.join(labels[1:])\n",
    "            return event\n",
    "    return None"
   ]
  },
  {
   "cell_type": "code",
   "execution_count": 25,
   "metadata": {},
   "outputs": [],
   "source": [
    "events_051 = [x for x in events if x['hostname'] == 'SysClient0051.systemia.com']\n",
    "events_201 = [x for x in events if x['hostname'] == 'SysClient0201.systemia.com']\n",
    "events_501 = [x for x in events if x['hostname'] == 'SysClient0501.systemia.com']"
   ]
  },
  {
   "cell_type": "code",
   "execution_count": 26,
   "metadata": {},
   "outputs": [],
   "source": [
    "events_051 = [Extract_Semantic_Info(x) for x in events_051]\n",
    "events_201 = [Extract_Semantic_Info(x) for x in events_201]\n",
    "events_501 = [Extract_Semantic_Info(x) for x in events_501] "
   ]
  },
  {
   "cell_type": "code",
   "execution_count": 27,
   "metadata": {},
   "outputs": [],
   "source": [
    "events_051 = [x for x in events_051 if x != None]\n",
    "events_201 = [x for x in events_201 if x != None]\n",
    "events_501 = [x for x in events_501 if x != None] "
   ]
  },
  {
   "cell_type": "code",
   "execution_count": 28,
   "metadata": {},
   "outputs": [],
   "source": [
    "import pandas as pd\n",
    "import networkx as nx"
   ]
  },
  {
   "cell_type": "code",
   "execution_count": 29,
   "metadata": {},
   "outputs": [],
   "source": [
    "import pandas as pd\n",
    "import networkx as nx\n",
    "from pyvis.network import Network"
   ]
  },
  {
   "cell_type": "code",
   "execution_count": 30,
   "metadata": {},
   "outputs": [
    {
     "name": "stdout",
     "output_type": "stream",
     "text": [
      "network1.html\n"
     ]
    },
    {
     "data": {
      "text/html": [
       "\n",
       "        <iframe\n",
       "            width=\"100%\"\n",
       "            height=\"750px\"\n",
       "            src=\"network1.html\"\n",
       "            frameborder=\"0\"\n",
       "            allowfullscreen\n",
       "            \n",
       "        ></iframe>\n",
       "        "
      ],
      "text/plain": [
       "<IPython.lib.display.IFrame at 0x7fd8f4c107d0>"
      ]
     },
     "execution_count": 30,
     "metadata": {},
     "output_type": "execute_result"
    }
   ],
   "source": [
    "df = pd.DataFrame.from_dict(events_501)\n",
    "df = df[df['object'].isin(['PROCESS','FILE'])]\n",
    "\n",
    "df['actorname'] = df['actorname'].str.split('\\\\').str[-1]\n",
    "df['objectname'] = df['objectname'].str.split('\\\\').str[-1]\n",
    "\n",
    "edges = df[['actorname', 'objectname']].values.tolist()\n",
    "\n",
    "G = nx.Graph()\n",
    "G.add_edges_from(edges)\n",
    "\n",
    "self_loops = list(nx.selfloop_edges(G))\n",
    "G.remove_edges_from(self_loops)\n",
    "\n",
    "net = Network(notebook=True, height=\"750px\", width=\"100%\", bgcolor=\"#222222\", font_color=\"white\",cdn_resources='in_line')\n",
    "\n",
    "for node in G.nodes:\n",
    "    net.add_node(node, title=node, label=node)\n",
    "\n",
    "for edge in G.edges:\n",
    "    net.add_edge(edge[0], edge[1])\n",
    "\n",
    "net.set_options(\"\"\"\n",
    "var options = {\n",
    "    \"physics\": {\n",
    "        \"forceAtlas2Based\": {\n",
    "            \"gravitationalConstant\": -26,\n",
    "            \"centralGravity\": 0.005,\n",
    "            \"springLength\": 230,\n",
    "            \"springConstant\": 0.18\n",
    "        },\n",
    "        \"maxVelocity\": 146,\n",
    "        \"solver\": \"forceAtlas2Based\",\n",
    "        \"timestep\": 0.35,\n",
    "        \"stabilization\": {\"iterations\": 150}\n",
    "    },\n",
    "    \"nodes\": {\n",
    "        \"font\": {\n",
    "            \"size\": 12\n",
    "        }\n",
    "    }\n",
    "}\n",
    "\"\"\")\n",
    "\n",
    "net.show(\"network1.html\")"
   ]
  },
  {
   "cell_type": "code",
   "execution_count": 31,
   "metadata": {
    "scrolled": true
   },
   "outputs": [
    {
     "name": "stdout",
     "output_type": "stream",
     "text": [
      "network2.html\n"
     ]
    },
    {
     "data": {
      "text/html": [
       "\n",
       "        <iframe\n",
       "            width=\"100%\"\n",
       "            height=\"750px\"\n",
       "            src=\"network2.html\"\n",
       "            frameborder=\"0\"\n",
       "            allowfullscreen\n",
       "            \n",
       "        ></iframe>\n",
       "        "
      ],
      "text/plain": [
       "<IPython.lib.display.IFrame at 0x7fd8f673f850>"
      ]
     },
     "execution_count": 31,
     "metadata": {},
     "output_type": "execute_result"
    }
   ],
   "source": [
    "df = pd.DataFrame.from_dict(events_201)\n",
    "df = df[df['object'].isin(['PROCESS','FILE'])]\n",
    "\n",
    "df['actorname'] = df['actorname'].str.split('\\\\').str[-1]\n",
    "df['objectname'] = df['objectname'].str.split('\\\\').str[-1]\n",
    "\n",
    "edges = df[['actorname', 'objectname']].values.tolist()\n",
    "\n",
    "G = nx.Graph()\n",
    "G.add_edges_from(edges)\n",
    "\n",
    "self_loops = list(nx.selfloop_edges(G))\n",
    "G.remove_edges_from(self_loops)\n",
    "\n",
    "net = Network(notebook=True, height=\"750px\", width=\"100%\", bgcolor=\"#222222\", font_color=\"white\",cdn_resources='in_line')\n",
    "\n",
    "for node in G.nodes:\n",
    "    net.add_node(node, title=node, label=node)\n",
    "\n",
    "for edge in G.edges:\n",
    "    net.add_edge(edge[0], edge[1])\n",
    "\n",
    "net.set_options(\"\"\"\n",
    "var options = {\n",
    "    \"physics\": {\n",
    "        \"forceAtlas2Based\": {\n",
    "            \"gravitationalConstant\": -26,\n",
    "            \"centralGravity\": 0.005,\n",
    "            \"springLength\": 230,\n",
    "            \"springConstant\": 0.18\n",
    "        },\n",
    "        \"maxVelocity\": 146,\n",
    "        \"solver\": \"forceAtlas2Based\",\n",
    "        \"timestep\": 0.35,\n",
    "        \"stabilization\": {\"iterations\": 150}\n",
    "    },\n",
    "    \"nodes\": {\n",
    "        \"font\": {\n",
    "            \"size\": 12\n",
    "        }\n",
    "    }\n",
    "}\n",
    "\"\"\")\n",
    "\n",
    "net.show(\"network2.html\")"
   ]
  },
  {
   "cell_type": "code",
   "execution_count": 32,
   "metadata": {},
   "outputs": [
    {
     "name": "stdout",
     "output_type": "stream",
     "text": [
      "network3.html\n"
     ]
    },
    {
     "data": {
      "text/html": [
       "\n",
       "        <iframe\n",
       "            width=\"100%\"\n",
       "            height=\"750px\"\n",
       "            src=\"network3.html\"\n",
       "            frameborder=\"0\"\n",
       "            allowfullscreen\n",
       "            \n",
       "        ></iframe>\n",
       "        "
      ],
      "text/plain": [
       "<IPython.lib.display.IFrame at 0x7fd8f58e4910>"
      ]
     },
     "execution_count": 32,
     "metadata": {},
     "output_type": "execute_result"
    }
   ],
   "source": [
    "df = pd.DataFrame.from_dict(events_051)\n",
    "df = df[df['object'].isin(['PROCESS','FILE'])]\n",
    "\n",
    "df['actorname'] = df['actorname'].str.split('\\\\').str[-1]\n",
    "df['objectname'] = df['objectname'].str.split('\\\\').str[-1]\n",
    "\n",
    "edges = df[['actorname', 'objectname']].values.tolist()\n",
    "\n",
    "G = nx.Graph()\n",
    "G.add_edges_from(edges)\n",
    "\n",
    "self_loops = list(nx.selfloop_edges(G))\n",
    "G.remove_edges_from(self_loops)\n",
    "\n",
    "net = Network(notebook=True, height=\"750px\", width=\"100%\", bgcolor=\"#222222\", font_color=\"white\",cdn_resources='in_line')\n",
    "\n",
    "for node in G.nodes:\n",
    "    net.add_node(node, title=node, label=node)\n",
    "\n",
    "for edge in G.edges:\n",
    "    net.add_edge(edge[0], edge[1])\n",
    "\n",
    "net.set_options(\"\"\"\n",
    "var options = {\n",
    "    \"physics\": {\n",
    "        \"forceAtlas2Based\": {\n",
    "            \"gravitationalConstant\": -26,\n",
    "            \"centralGravity\": 0.005,\n",
    "            \"springLength\": 230,\n",
    "            \"springConstant\": 0.18\n",
    "        },\n",
    "        \"maxVelocity\": 146,\n",
    "        \"solver\": \"forceAtlas2Based\",\n",
    "        \"timestep\": 0.35,\n",
    "        \"stabilization\": {\"iterations\": 150}\n",
    "    },\n",
    "    \"nodes\": {\n",
    "        \"font\": {\n",
    "            \"size\": 12\n",
    "        }\n",
    "    }\n",
    "}\n",
    "\"\"\")\n",
    "\n",
    "net.show(\"network3.html\")"
   ]
  },
  {
   "cell_type": "code",
   "execution_count": null,
   "metadata": {},
   "outputs": [],
   "source": []
  }
 ],
 "metadata": {
  "accelerator": "GPU",
  "colab": {
   "collapsed_sections": [],
   "provenance": []
  },
  "gpuClass": "standard",
  "kernelspec": {
   "display_name": "Python 3 (ipykernel)",
   "language": "python",
   "name": "python3"
  },
  "language_info": {
   "codemirror_mode": {
    "name": "ipython",
    "version": 3
   },
   "file_extension": ".py",
   "mimetype": "text/x-python",
   "name": "python",
   "nbconvert_exporter": "python",
   "pygments_lexer": "ipython3",
   "version": "3.11.5"
  }
 },
 "nbformat": 4,
 "nbformat_minor": 4
}
