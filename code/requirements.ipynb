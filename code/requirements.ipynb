{
 "cells": [
  {
   "cell_type": "code",
   "execution_count": null,
   "metadata": {
    "tags": []
   },
   "outputs": [],
   "source": [
    "import subprocess\n",
    "\n",
    "def check_cuda_version():\n",
    "    try:\n",
    "        result = subprocess.run(['nvcc', '--version'], capture_output=True, text=True)\n",
    "        output = result.stdout\n",
    "        return output\n",
    "    except FileNotFoundError:\n",
    "        return \"nvcc not found. Make sure CUDA Toolkit is installed and in your system's PATH.\"\n",
    "\n",
    "if __name__ == \"__main__\":\n",
    "    cuda_info = check_cuda_version()\n",
    "    print(\"CUDA information:\")\n",
    "    print(cuda_info)"
   ]
  },
  {
   "cell_type": "code",
   "execution_count": null,
   "metadata": {},
   "outputs": [],
   "source": [
    "GPU = True"
   ]
  },
  {
   "cell_type": "code",
   "execution_count": null,
   "metadata": {
    "tags": []
   },
   "outputs": [],
   "source": [
    "if GPU:\n",
    "    !pip install torch==1.12.0+cu113 -f https://download.pytorch.org/whl/torch_stable.html\n",
    "    !pip install torch-sparse==0.6.15+pt112cu113 -f https://data.pyg.org/whl/torch-1.12.0+cu113.html\n",
    "    !pip install torch-cluster==1.6.0+pt112cu113 -f https://data.pyg.org/whl/torch-1.12.0+cu113.html\n",
    "    !pip install torch-spline-conv==1.2.1+pt112cu113 -f https://data.pyg.org/whl/torch-1.12.0+cu113.html\n",
    "    !pip install torch-geometric==2.1.0\n",
    "    !pip install torch-scatter==2.0.9\n",
    "\n",
    "else:\n",
    "    !pip install torch==1.12.0+cpu -f https://download.pytorch.org/whl/torch_stable.html\n",
    "    !pip install torch-sparse==0.6.15+pt112cpu -f https://data.pyg.org/whl/torch-1.12.0+cpu.html\n",
    "    !pip install torch-cluster==1.6.0+pt112cpu -f https://data.pyg.org/whl/torch-1.12.0+cpu.html\n",
    "    !pip install torch-spline-conv==1.2.1+pt112cpu -f https://data.pyg.org/whl/torch-1.12.0+cpu.html\n",
    "    !pip install torch-geometric==2.1.0\n",
    "    !pip install torch-scatter==2.0.9"
   ]
  },
  {
   "cell_type": "code",
   "execution_count": null,
   "metadata": {
    "tags": []
   },
   "outputs": [],
   "source": [
    "!pip install pandas==1.3.5\n",
    "!pip install numpy==1.23.1\n",
    "!pip install scikit-learn==1.1.1\n",
    "!pip install xgboost==0.90\n",
    "!pip install gensim==4.3.0\n",
    "!pip install networkx==3.0"
   ]
  }
 ],
 "metadata": {
  "accelerator": "GPU",
  "colab": {
   "provenance": []
  },
  "gpuClass": "standard",
  "kernelspec": {
   "display_name": "ASE 3.20.1",
   "language": "python",
   "name": "ase-3.20.1"
  },
  "language_info": {
   "codemirror_mode": {
    "name": "ipython",
    "version": 3
   },
   "file_extension": ".py",
   "mimetype": "text/x-python",
   "name": "python",
   "nbconvert_exporter": "python",
   "pygments_lexer": "ipython3",
   "version": "3.8.8"
  }
 },
 "nbformat": 4,
 "nbformat_minor": 4
}
