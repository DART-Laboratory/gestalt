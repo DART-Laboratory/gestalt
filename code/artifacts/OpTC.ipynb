{
 "cells": [
  {
   "cell_type": "code",
   "execution_count": null,
   "metadata": {
    "tags": []
   },
   "outputs": [],
   "source": [
    "import pandas as pd\n",
    "import numpy as np\n",
    "from sklearn.preprocessing import LabelEncoder\n",
    "import torch\n",
    "from torch_geometric.data import Data\n",
    "import torch.nn.functional as F\n",
    "import warnings\n",
    "import os\n",
    "from torch_geometric.loader import NeighborLoader\n",
    "import random"
   ]
  },
  {
   "cell_type": "code",
   "execution_count": null,
   "metadata": {},
   "outputs": [],
   "source": [
    "device = torch.device(\"cuda\" if torch.cuda.is_available() else \"cpu\")"
   ]
  },
  {
   "cell_type": "code",
   "execution_count": null,
   "metadata": {},
   "outputs": [],
   "source": [
    "num_of_ctg = 10\n",
    "learning_rounds = 10\n",
    "epochs = 20\n",
    "hids = [random.randint(100, 900) for _ in range(10)]\n",
    "hosts = [f'SysClient0{x}.systemia.com.txt' for x in hids]"
   ]
  },
  {
   "cell_type": "code",
   "execution_count": null,
   "metadata": {
    "tags": []
   },
   "outputs": [],
   "source": [
    "from pprint import pprint\n",
    "import json\n",
    "import copy\n",
    "\n",
    "import gensim\n",
    "from gensim.models import Word2Vec\n",
    "from multiprocessing import Pool\n",
    "from itertools import compress\n",
    "from tqdm import tqdm"
   ]
  },
  {
   "cell_type": "code",
   "execution_count": null,
   "metadata": {
    "tags": []
   },
   "outputs": [],
   "source": [
    "import gensim\n",
    "from collections import Counter\n",
    "from gensim.models import Word2Vec\n",
    "from multiprocessing import Pool\n",
    "from itertools import compress\n",
    "from tqdm import tqdm\n",
    "import time\n",
    "\n",
    "def infer(doc,word2vec):  \n",
    "    word_emb = []\n",
    "    for word in doc:\n",
    "        if word in word2vec.wv:\n",
    "            word_emb.append(word2vec.wv[word])\n",
    "            \n",
    "    if len(word_emb) == 0:\n",
    "        return np.zeros(20)\n",
    "\n",
    "    out_emb = torch.tensor(word_emb,dtype=torch.float)\n",
    "    out_emb = out_emb.detach().cpu().numpy()\n",
    "    out_emb = np.mean(out_emb,axis=0)\n",
    "    return out_emb"
   ]
  },
  {
   "cell_type": "code",
   "execution_count": null,
   "metadata": {
    "tags": []
   },
   "outputs": [],
   "source": [
    "def preprocess(data):\n",
    "    new_data = {}\n",
    "    for x in data:\n",
    "        check1 = x['object'] in ['PROCESS','FILE','FLOW','MODULE']\n",
    "        check2 = not (x['action'] in ['START','TERMINATE'])\n",
    "        check3 = x['actorID'] != x['objectID']\n",
    "        key = (x['action'],x['actorID'],x['objectID'],x['object'],x['pid'],x['ppid'])\n",
    "        if check1 and check2 and check3:\n",
    "            new_data[key] = x\n",
    "    return list(new_data.values())"
   ]
  },
  {
   "cell_type": "code",
   "execution_count": null,
   "metadata": {
    "tags": []
   },
   "outputs": [],
   "source": [
    "def Extract_Semantic_Info(event):\n",
    "    object_type = event['object']\n",
    "    properties = event['properties']\n",
    "\n",
    "    label_mapping = {\n",
    "        \"PROCESS\": ('parent_image_path', 'image_path'),\n",
    "        \"FILE\": ('image_path', 'file_path'),\n",
    "        \"MODULE\": ('image_path', 'module_path'),\n",
    "        \"FLOW\": ('image_path', 'dest_ip', 'dest_port')\n",
    "    }\n",
    "\n",
    "    label_keys = label_mapping.get(object_type, None)\n",
    "    if label_keys:\n",
    "        labels = [properties.get(key) for key in label_keys]\n",
    "        if all(labels):\n",
    "            event[\"actorname\"], event[\"objectname\"] = labels[0], ' '.join(labels[1:])\n",
    "            return event\n",
    "    return None"
   ]
  },
  {
   "cell_type": "code",
   "execution_count": null,
   "metadata": {
    "tags": []
   },
   "outputs": [],
   "source": [
    "def describe(x):\n",
    "    action = x[\"action\"]\n",
    "    props = x['properties']\n",
    "    typ = x['object']\n",
    "\n",
    "    phrase = ''\n",
    "    try:\n",
    "        if typ == 'PROCESS':\n",
    "            phrase = f\"{props['parent_image_path']} {action} {props['image_path']} {props['command_line']}\" \n",
    "\n",
    "        elif typ == 'FILE':\n",
    "            phrase = f\"{props['image_path']} {action} {props['file_path']}\"    \n",
    "\n",
    "        elif typ == 'FLOW':\n",
    "            phrase = f\"{props['image_path']} {action}  {props['dest_ip']} {props['dest_port']} {props['direction']}\"    \n",
    "\n",
    "        else:\n",
    "            phrase = f\"{props['image_path']} {action} {props['module_path']}\"\n",
    "    except:\n",
    "        phrase = ''\n",
    "  \n",
    "    return phrase.split(' ') "
   ]
  },
  {
   "cell_type": "code",
   "execution_count": null,
   "metadata": {
    "tags": []
   },
   "outputs": [],
   "source": [
    "def transform(text):\n",
    "    text = [event for event in (Extract_Semantic_Info(x) for x in text) if event]\n",
    "    data = preprocess(text)\n",
    "\n",
    "    temp = [describe(x) for x in data]\n",
    "    temp = [x for x in temp if len(x) != 0]\n",
    "\n",
    "    for i in range(len(data)):\n",
    "        data[i]['phrase'] = temp[i]\n",
    "        try:\n",
    "            data[i]['proc_name'] = data[i]['properties']['image_path']\n",
    "        except:\n",
    "            data[i]['proc_name'] = ''\n",
    "\n",
    "    df = pd.DataFrame.from_dict(data)\n",
    "    df['timestamp'] = df['timestamp'].str[:-6]\n",
    "    df['timestamp'] = pd.to_datetime(df['timestamp'],infer_datetime_format=True)\n",
    "    df.sort_values(by='timestamp', ascending=True,inplace=True)\n",
    "\n",
    "    return df\n",
    "\n",
    "def load_data(dataset_id):\n",
    "    f = open(f\"hosts/{dataset_id}\")\n",
    "    content = [json.loads(line) for line in f]\n",
    "    return prepare_graph(transform(content))"
   ]
  },
  {
   "cell_type": "code",
   "execution_count": null,
   "metadata": {
    "tags": []
   },
   "outputs": [],
   "source": [
    "def prepare_graph(df):\n",
    "    nodes = {}\n",
    "    labels = {}\n",
    "    edges = []\n",
    "    proc = {}\n",
    "    dummies = {'PROCESS':0,'FLOW':1,'FILE':2,'MODULE':3}\n",
    "\n",
    "    for i in range(len(df)):\n",
    "        x = df.iloc[i]\n",
    "\n",
    "        actorid = x['actorID']\n",
    "        if not (actorid in nodes):\n",
    "            nodes[actorid] = []\n",
    "        nodes[actorid] += x['phrase']\n",
    "        labels[actorid] = dummies['PROCESS']\n",
    "\n",
    "        objectid = x[\"objectID\"]\n",
    "        if not (objectid in nodes):\n",
    "            nodes[objectid] = []\n",
    "        nodes[objectid] += x['phrase']\n",
    "        labels[objectid] = dummies[x['object']]\n",
    "        \n",
    "        edges.append(( actorid, objectid, x['action'] ))\n",
    "        \n",
    "        proc[actorid] = x['proc_name']\n",
    "\n",
    "    features = []\n",
    "    feat_labels = []\n",
    "    edge_index = [[],[]]\n",
    "    index  = {}\n",
    "    mapp = []\n",
    "    \n",
    "    all_procs = set()\n",
    "              \n",
    "    for k,v in nodes.items():\n",
    "        features.append(v)\n",
    "        feat_labels.append(labels[k])\n",
    "        index[k] = len(features) - 1\n",
    "        mapp.append(k)\n",
    "        \n",
    "        if k in proc:\n",
    "            all_procs.add(proc[k])\n",
    "\n",
    "    for x in edges:\n",
    "        src = index[x[0]]\n",
    "        dst = index[x[1]]\n",
    "    \n",
    "        edge_index[0].append(src)\n",
    "        edge_index[1].append(dst)    \n",
    "    \n",
    "    idx_to_proc = {}\n",
    "    for i in range(len(mapp)):\n",
    "        if mapp[i] in proc:\n",
    "            idx_to_proc[i] = proc[mapp[i]]\n",
    "            \n",
    "    all_procs = list(all_procs)\n",
    "    \n",
    "    return features,feat_labels,edge_index,mapp,all_procs,idx_to_proc"
   ]
  },
  {
   "cell_type": "code",
   "execution_count": null,
   "metadata": {
    "tags": []
   },
   "outputs": [],
   "source": [
    "from torch_geometric.nn import GCNConv\n",
    "from torch_geometric.nn import SAGEConv, GATConv\n",
    "import torch.nn.functional as F\n",
    "import torch.nn as nn\n",
    "\n",
    "class GCN(torch.nn.Module):\n",
    "    def __init__(self):\n",
    "        super(GCN, self).__init__()\n",
    "        self.conv1 = SAGEConv(20, 32, normalize=True)\n",
    "        self.conv2 = SAGEConv(32, 20, normalize=True)\n",
    "        self.linear = nn.Linear(in_features=20, out_features=4)\n",
    "\n",
    "    def forward(self, x: torch.Tensor, edge_index: torch.Tensor) -> torch.Tensor:\n",
    "    \n",
    "        x = self.encode(x, edge_index)\n",
    "        x = self.linear(x)\n",
    "        return F.softmax(x, dim=1)\n",
    "    \n",
    "    def encode(self, x: torch.Tensor, edge_index: torch.Tensor) -> torch.Tensor:\n",
    "        \n",
    "        x = self.conv1(x, edge_index)\n",
    "        x = F.relu(x)\n",
    "        x = F.dropout(x, p=0.5, training=self.training)\n",
    "        x = self.conv2(x, edge_index)\n",
    "        return x\n",
    "    \n",
    "    def freeze_conv_layers(self):\n",
    "        for param in self.conv1.parameters():\n",
    "            param.requires_grad = False\n",
    "        for param in self.conv2.parameters():\n",
    "            param.requires_grad = False"
   ]
  },
  {
   "cell_type": "code",
   "execution_count": null,
   "metadata": {
    "tags": []
   },
   "outputs": [],
   "source": [
    "from gensim.models.callbacks import CallbackAny2Vec\n",
    "import gensim\n",
    "from gensim.models import Word2Vec\n",
    "from multiprocessing import Pool\n",
    "from itertools import compress\n",
    "from tqdm import tqdm\n",
    "import time\n",
    "\n",
    "class EpochSaver(CallbackAny2Vec):\n",
    "\n",
    "    def __init__(self,client_id):\n",
    "        self.epoch = 0\n",
    "        self.cid = client_id\n",
    "\n",
    "    def on_epoch_end(self, model):\n",
    "        model.save(f\"{self.cid}.model\")\n",
    "        self.epoch += 1\n",
    "        \n",
    "class EpochLogger(CallbackAny2Vec):\n",
    "\n",
    "    def __init__(self):\n",
    "        self.epoch = 0\n",
    "\n",
    "    def on_epoch_begin(self, model):\n",
    "        pass\n",
    "\n",
    "    def on_epoch_end(self, model):\n",
    "        self.epoch += 1\n",
    "        \n",
    "def train_word2vec_func(docs,client_id):\n",
    "    logger = EpochLogger()\n",
    "    saver = EpochSaver(client_id)\n",
    "    word2vec = Word2Vec(sentences=docs, vector_size=20, window=5, min_count=1,workers=5,epochs=100,callbacks=[saver,logger])"
   ]
  },
  {
   "cell_type": "code",
   "execution_count": null,
   "metadata": {},
   "outputs": [],
   "source": [
    "def init_gnns():\n",
    "    global num_of_ctg\n",
    "    n = num_of_ctg\n",
    "    gnn_models = []\n",
    "    for i in range(n):\n",
    "        m = GCN().to(device)\n",
    "        gnn_models.append(m)\n",
    "    return gnn_models"
   ]
  },
  {
   "cell_type": "code",
   "execution_count": null,
   "metadata": {},
   "outputs": [],
   "source": [
    "def define_categories(pids):\n",
    "    global num_of_ctg\n",
    "    n = num_of_ctg - 1\n",
    "    ctg = set(pids)\n",
    "    ctg = list(ctg)\n",
    "    k, m = divmod(len(ctg), n)\n",
    "    return [set(ctg[i * k + min(i, m):(i + 1) * k + min(i + 1, m)]) for i in range(n)]"
   ]
  },
  {
   "cell_type": "code",
   "execution_count": null,
   "metadata": {
    "tags": []
   },
   "outputs": [],
   "source": [
    "def map_pids_to_category_indices(pids, categories):\n",
    "    pid_to_category_index = {}\n",
    "    \n",
    "    for pid in pids:\n",
    "        for category_index, category_set in enumerate(categories):\n",
    "            if pid in category_set:\n",
    "                pid_to_category_index[pid] = category_index\n",
    "                break \n",
    "    \n",
    "    return pid_to_category_index"
   ]
  },
  {
   "cell_type": "code",
   "execution_count": null,
   "metadata": {},
   "outputs": [],
   "source": [
    "procs_total = []\n",
    "data_cache = {}\n",
    "categories = None\n",
    "\n",
    "def generate_key():\n",
    "    return Fernet.generate_key()\n",
    "\n",
    "def encrypt_data(data, key):\n",
    "    fernet = Fernet(key)\n",
    "    return [fernet.encrypt(str(d).encode()) for d in data]\n",
    "\n",
    "def decrypt_data(nested_data, key):\n",
    "    fernet = Fernet(key)\n",
    "    return [[fernet.decrypt(d).decode() for d in inner_list] for inner_list in nested_data]\n",
    "\n",
    "def load_clients_data(client_ids):\n",
    "    \n",
    "    global data_cache,categories,procs_total\n",
    "    key = generate_key()\n",
    "\n",
    "    for x in client_ids:\n",
    "        docs,labels,edges,mapp,pids,idx_to_pid = load_data(x)\n",
    "        data_cache[x] = [docs,labels,edges,mapp,pids,idx_to_pid]\n",
    "        procs_total = procs_total + pids\n",
    "        \n",
    "    encrypted_procs_total = encrypt_data(procs_total, key)\n",
    "    categories = define_categories(encrypted_procs_total)\n",
    "    categories = decrypt_data(categories, key)"
   ]
  },
  {
   "cell_type": "code",
   "execution_count": null,
   "metadata": {
    "tags": []
   },
   "outputs": [],
   "source": [
    "from torch.nn import CrossEntropyLoss\n",
    "import copy\n",
    "\n",
    "templates = init_gnns()\n",
    "\n",
    "def train_gnn_func(nodes,labels,edges,mapp,pids,idx_to_pid):\n",
    "    \n",
    "    global categories ,epochs\n",
    "    \n",
    "    pid_to_gnn_index = map_pids_to_category_indices(pids, categories)\n",
    "    \n",
    "    set_pids = set(pids)\n",
    "\n",
    "    proc_index = list(idx_to_pid.keys())\n",
    "\n",
    "    train_splits = [[] for _ in range(len(categories))]\n",
    "    \n",
    "    for i in proc_index:\n",
    "        pname = idx_to_pid[str(i)]\n",
    "        split_indx = pid_to_gnn_index[pname]\n",
    "        train_splits[split_indx].append(int(i))\n",
    "        \n",
    "    local_models = [copy.deepcopy(x) for x in templates]\n",
    "    \n",
    "    for i in range(len(local_models)-1):\n",
    "            \n",
    "        if len(train_splits[i]) == 0:\n",
    "            local_models[i] = None\n",
    "        else:\n",
    "            if f\"global{i}.pth\" in os.listdir():\n",
    "                local_models[i].load_state_dict(torch.load(f\"global{i}.pth\"))\n",
    "\n",
    "            optimizer = torch.optim.Adam(local_models[i].parameters(), lr=0.01, weight_decay=5e-4)\n",
    "            criterion = CrossEntropyLoss()\n",
    "\n",
    "            graph = Data(x=torch.tensor(nodes,dtype=torch.float).to(device),y=torch.tensor(labels,dtype=torch.long).to(device), edge_index=torch.tensor(edges,dtype=torch.long).to(device))\n",
    "            mask = torch.tensor([False]*graph.num_nodes, dtype=torch.bool)\n",
    "            mask[train_splits[i]] = True\n",
    "            \n",
    "            def get_neighbors(edge_index, nodes):\n",
    "                neighbors = []\n",
    "                for node in nodes:\n",
    "                    mask = edge_index[0] == node\n",
    "                    neighbors.extend(edge_index[1, mask].tolist())\n",
    "                return torch.tensor(list(set(neighbors)), dtype=torch.long)\n",
    "\n",
    "            one_hop_neighbors = get_neighbors(graph.edge_index, train_splits[i])\n",
    "            two_hop_neighbors = get_neighbors(graph.edge_index, one_hop_neighbors)\n",
    "            two_hop_neighbors = two_hop_neighbors[~mask[two_hop_neighbors]]\n",
    "            mask[two_hop_neighbors] = True\n",
    "            \n",
    "            for epoch in range(epochs):\n",
    "                loader = NeighborLoader(graph, num_neighbors=[-1,-1], batch_size=5000,input_nodes=mask)\n",
    "                total_loss = 0\n",
    "                for subg in loader:\n",
    "                    local_models[i].train()\n",
    "                    optimizer.zero_grad() \n",
    "                    out = local_models[i](subg.x, subg.edge_index) \n",
    "                    loss = criterion(out, subg.y) \n",
    "                    loss.backward() \n",
    "                    optimizer.step()      \n",
    "                    total_loss += loss.item() * subg.batch_size\n",
    "                print(\"Loss: \", total_loss / mask.sum().item(), '\\n')\n",
    "    \n",
    "    graph = Data(x=torch.tensor(nodes,dtype=torch.float).to(device),y=torch.tensor(labels,dtype=torch.long).to(device), edge_index=torch.tensor(edges,dtype=torch.long).to(device))\n",
    "    optimizer = torch.optim.Adam(local_models[-1].parameters(), lr=0.01, weight_decay=5e-4)\n",
    "    criterion = CrossEntropyLoss()\n",
    "    \n",
    "    for epoch in range(epochs):\n",
    "        local_models[-1].train()\n",
    "        optimizer.zero_grad() \n",
    "        out = local_models[-1](graph.x, graph.edge_index) \n",
    "        loss = criterion(out, graph.y) \n",
    "        loss.backward() \n",
    "        optimizer.step()      \n",
    "        print(f\"Epoch: {epoch}, Loss: {loss.item()}\")\n",
    "\n",
    "    return local_models"
   ]
  },
  {
   "cell_type": "code",
   "execution_count": null,
   "metadata": {},
   "outputs": [],
   "source": [
    "from gensim.models.callbacks import CallbackAny2Vec\n",
    "import gensim\n",
    "from gensim.models import Word2Vec\n",
    "from multiprocessing import Pool\n",
    "from itertools import compress\n",
    "from tqdm import tqdm\n",
    "import time"
   ]
  },
  {
   "cell_type": "code",
   "execution_count": null,
   "metadata": {},
   "outputs": [],
   "source": [
    "class EpochSaver(CallbackAny2Vec):\n",
    "    def __init__(self,filename):\n",
    "        self.epoch = 0\n",
    "        self.filename = filename\n",
    "\n",
    "    def on_epoch_end(self, model):\n",
    "        model.save(self.filename)\n",
    "        self.epoch += 1"
   ]
  },
  {
   "cell_type": "code",
   "execution_count": null,
   "metadata": {},
   "outputs": [],
   "source": [
    "class EpochLogger(CallbackAny2Vec):\n",
    "    def __init__(self):\n",
    "        self.epoch = 0\n",
    "\n",
    "    def on_epoch_begin(self, model):\n",
    "        print(\"Epoch #{} start\".format(self.epoch))\n",
    "\n",
    "    def on_epoch_end(self, model):\n",
    "        print(\"Epoch #{} end\".format(self.epoch))\n",
    "        self.epoch += 1"
   ]
  },
  {
   "cell_type": "code",
   "execution_count": null,
   "metadata": {},
   "outputs": [],
   "source": [
    "def train_client_word2vec_model(ids,data):\n",
    "    \n",
    "    for h in ids:\n",
    "        logger = EpochLogger()\n",
    "        saver = EpochSaver(f\"{h}.model\") \n",
    "\n",
    "        phrases,feat_labels,edge_index,mapp,all_procs,idx_to_proc = data[h]\n",
    "        word2vec = Word2Vec(sentences=phrases, vector_size=30, window=5, min_count=1, workers=5,epochs=100,callbacks=[saver,logger])"
   ]
  },
  {
   "cell_type": "code",
   "execution_count": null,
   "metadata": {},
   "outputs": [],
   "source": [
    "from cryptography.fernet import Fernet\n",
    "import base64\n",
    "\n",
    "def generate_key():\n",
    "    return Fernet.generate_key()\n",
    "\n",
    "def encrypt_word2vec_model(word2vec_model, encryption_key):\n",
    "    f = Fernet(encryption_key)\n",
    "    vector_size = word2vec_model.vector_size  \n",
    "    encrypted_model = gensim.models.Word2Vec(vector_size=vector_size, min_count=1)  \n",
    "    \n",
    "    for word in word2vec_model.wv.index_to_key:\n",
    "        vector = word2vec_model.wv.get_vector(word)\n",
    "        encrypted_word = f.encrypt(word.encode()).decode()\n",
    "        encrypted_model.wv[encrypted_word] = vector\n",
    "    return encrypted_model\n",
    "\n",
    "def decrypt_word2vec_model(word2vec_model, encryption_key):\n",
    "    f = Fernet(encryption_key)\n",
    "    vector_size = word2vec_model.vector_size  \n",
    "    decrypted_model = gensim.models.Word2Vec(vector_size=vector_size, min_count=1)  \n",
    "    \n",
    "    for word in word2vec_model.wv.index_to_key:\n",
    "        vector = word2vec_model.wv.get_vector(word)\n",
    "        decrypted_word = f.decrypt(word.encode()).decode()\n",
    "        decrypted_model.wv[decrypted_word] = vector\n",
    "    \n",
    "    return decrypted_model"
   ]
  },
  {
   "cell_type": "code",
   "execution_count": null,
   "metadata": {},
   "outputs": [],
   "source": [
    "key = generate_key()\n",
    "\n",
    "encrypted_word_models = []\n",
    "for m in hosts:\n",
    "    word2vec = Word2Vec.load(f\"{m}.model\")\n",
    "    encrypted_model = encrypt_word2vec_model(word2vec,key)\n",
    "    word_models.append(encrypted_model)\n",
    "    \n",
    "encrypted_global_word = combine_word2vec_models(encrypted_word_models)\n",
    "\n",
    "global_word = decrypt_word2vec_model(encrypted_word2vec_model,key)\n",
    "global_word.save(\"unified_word2vec.model\")"
   ]
  },
  {
   "cell_type": "code",
   "execution_count": null,
   "metadata": {
    "tags": []
   },
   "outputs": [],
   "source": [
    "def client_handling_loop(client_id):\n",
    "    \n",
    "    docs,labels,edges,mapp,pids,idx_to_pid = data_cache[client_id]\n",
    "    \n",
    "    nodes_feat = []\n",
    "    word2vec = Word2Vec.load(f\"unified_word2vec.model\")\n",
    "    for x in docs:\n",
    "        nodes_feat.append( infer(x,word2vec) ) \n",
    "        \n",
    "    trained_local_models = train_gnn_func(nodes_feat,labels,edges,mapp,pids,idx_to_pid)\n",
    "    return trained_local_models"
   ]
  },
  {
   "cell_type": "code",
   "execution_count": null,
   "metadata": {
    "tags": []
   },
   "outputs": [],
   "source": [
    "def perform_federated_learning(n_clients):\n",
    "    client_models = []\n",
    "    for c in n_clients:\n",
    "        local_gnns = client_handling_loop(c)\n",
    "        client_models.append(local_gnns)\n",
    "    return client_models"
   ]
  },
  {
   "cell_type": "code",
   "execution_count": null,
   "metadata": {},
   "outputs": [],
   "source": [
    "def server_aggregate(all_models):\n",
    "    global_models = copy.deepcopy(templates)\n",
    "    \n",
    "    for l in range(len(all_models)):\n",
    "        \n",
    "        current_models = all_models[l]\n",
    "        current_models = [x for x in current_models if x != None]\n",
    "        \n",
    "        if not len(current_models) == 0:\n",
    "        \n",
    "            global_dict = global_models[l].state_dict()\n",
    "\n",
    "            for k in global_dict.keys():\n",
    "                param_list = [current_models[i].state_dict()[k] for i in range(len(current_models))]\n",
    "                global_dict[k] = torch.stack(param_list, 0).mean(0)\n",
    "\n",
    "            global_models[l].load_state_dict(global_dict)\n",
    "            torch.save(global_models[l].state_dict(), f\"global{l}.pth\")\n",
    "                   \n",
    "    return global_models"
   ]
  },
  {
   "cell_type": "code",
   "execution_count": null,
   "metadata": {
    "tags": []
   },
   "outputs": [],
   "source": [
    "from itertools import compress"
   ]
  },
  {
   "cell_type": "code",
   "execution_count": null,
   "metadata": {
    "tags": []
   },
   "outputs": [],
   "source": [
    "def helper(MP,acts,objs,GP,edges,mapp):\n",
    "\n",
    "    all_pids = acts.union(objs)\n",
    "    GN = all_pids - GP\n",
    "    MN = all_pids - MP\n",
    "\n",
    "    TP = MP.intersection(GP)\n",
    "    FP = MP.intersection(GN)\n",
    "    FN = MN.intersection(GP)\n",
    "    \n",
    "    two_hop_gp = construct_neighborhood(GP,mapp,edges,2)\n",
    "    two_hop_tp = construct_neighborhood(TP,mapp,edges,2)\n",
    "    FP = FP - two_hop_gp\n",
    "    TP = TP.union(FN.intersection(two_hop_tp))\n",
    "    FN = FN - two_hop_tp\n",
    "\n",
    "    TP,FPC,FN = len(TP),len(FP),len(FN)\n",
    "    \n",
    "    TN = (len(acts) + len(objs)) - TP - FPC - FN\n",
    "    \n",
    "    FPR = FPC / (FPC+TN)\n",
    "    TPR = TP / (TP+FN)\n",
    "    \n",
    "    return TP,FPC,FN,TN,FP "
   ]
  },
  {
   "cell_type": "code",
   "execution_count": null,
   "metadata": {
    "tags": []
   },
   "outputs": [],
   "source": [
    "from itertools import compress\n",
    "from torch_geometric import utils\n",
    "\n",
    "def construct_neighborhood(ids,mapp,edges,hops):\n",
    "    if hops == 0:\n",
    "        return set()\n",
    "    else:\n",
    "        neighbors = set()\n",
    "        for i in range(len(edges[0])):\n",
    "            if mapp[edges[0][i]] in ids:\n",
    "                neighbors.add(mapp[edges[1][i]])\n",
    "            if mapp[edges[1][i]] in ids:\n",
    "                neighbors.add(mapp[edges[0][i]])\n",
    "        return neighbors.union( construct_neighborhood(neighbors,mapp,edges,hops-1) )"
   ]
  },
  {
   "cell_type": "code",
   "execution_count": null,
   "metadata": {
    "tags": []
   },
   "outputs": [],
   "source": [
    "load_clients_data(hosts)"
   ]
  },
  {
   "cell_type": "code",
   "execution_count": null,
   "metadata": {},
   "outputs": [],
   "source": [
    "for r in range(learning_rounds):\n",
    "    client_models = perform_federated_learning(hosts)\n",
    "    arranged_models =  [list(group) for group in zip(*client_models)]\n",
    "    global_models = server_aggregate(arranged_models)"
   ]
  },
  {
   "cell_type": "code",
   "execution_count": null,
   "metadata": {
    "tags": []
   },
   "outputs": [],
   "source": [
    "data_cache_mal = {}\n",
    "\n",
    "def load_test_data():\n",
    "    global data_cache_mal\n",
    "        \n",
    "    for x in ['201','501','051']:\n",
    "        path = f\"eval_data/SysClient0{x}.systemia.com.txt\"\n",
    "        f = open(path)\n",
    "        content = [json.loads(line) for line in f]\n",
    "        docs,labels,edges,mapp,pids,idx_to_pid = prepare_graph(transform(content))\n",
    "        data_cache_mal[x] = [docs,labels,edges,mapp,pids,idx_to_pid]"
   ]
  },
  {
   "cell_type": "code",
   "execution_count": null,
   "metadata": {
    "tags": []
   },
   "outputs": [],
   "source": [
    "load_data_test()"
   ]
  },
  {
   "cell_type": "code",
   "execution_count": null,
   "metadata": {
    "tags": []
   },
   "outputs": [],
   "source": [
    "TP,FP,FN,TN = 0,0,0,0\n",
    "FPL = set()\n",
    "for data_id in ['201','501','051']:\n",
    "\n",
    "    docs,labels,edges,mapp,pids,idx_to_pid = data_cache_mal[data_id]\n",
    "\n",
    "    nodes_feat = []\n",
    "    word2vec = Word2Vec.load(f\"unified_word2vec.model\")\n",
    "    for x in docs:\n",
    "        nodes_feat.append( infer(x,word2vec) ) \n",
    "\n",
    "    with open(f\"gt_{data_id}.json\", \"r\") as json_file:\n",
    "        gt,acts,objs = json.load(json_file)  \n",
    "\n",
    "    gt,acts,objs = set(gt),set(acts),set(objs)\n",
    "\n",
    "    graph = Data(x=torch.tensor(nodes_feat,dtype=torch.float).to(device),y=torch.tensor(labels,dtype=torch.long).to(device), edge_index=torch.tensor(edges,dtype=torch.long).to(device))\n",
    "\n",
    "    flag = torch.tensor([True]*graph.num_nodes, dtype=torch.bool)\n",
    "\n",
    "    model = GCN().to(device)\n",
    "\n",
    "    for m_n in range(num_of_ctg):\n",
    "        if f\"global{m_n}.pth\" in os.listdir(\"\"): \n",
    "            model.load_state_dict(torch.load(f\"global{m_n}.pth\"))\n",
    "            \n",
    "        model.eval()\n",
    "        out = model(graph.x, graph.edge_index)\n",
    "\n",
    "        sorted, indices = out.sort(dim=1,descending=True)\n",
    "        conf = (sorted[:,0] - sorted[:,1]) / sorted[:,0]\n",
    "        conf = (conf - conf.min()) / conf.max()\n",
    "\n",
    "        pred = indices[:,0]\n",
    "        cond = (pred == graph.y)\n",
    "        flag[cond] = torch.logical_and(flag[cond], torch.tensor([False]*len(flag[cond]), dtype=torch.bool))\n",
    "\n",
    "    index = utils.mask_to_index(flag).tolist()\n",
    "    ids = set([mapp[x] for x in index])\n",
    "\n",
    "    metrics = helper(set(ids),acts,objs,gt,edges,mapp) \n",
    "        \n",
    "    fp = [i for i in range(len(mapp)) if mapp[i] in metrics[4] and labels[i] in [0,1,2]]\n",
    "          \n",
    "    TP = TP + metrics[0]\n",
    "    FP = FP + len(fp)\n",
    "    FN = FN + metrics[2]\n",
    "    TN = TN + metrics[3]\n",
    "\n",
    "print(f\"Number of True Positives: {TP}\")\n",
    "print(f\"Number of Fasle Positives: {FP}\")\n",
    "print(f\"Number of False Negatives: {FN}\")\n",
    "print(f\"Number of True Negatives: {TN}\\n\")\n",
    "\n",
    "prec = TP / (TP + FP)\n",
    "print(f\"Precision: {prec}\")\n",
    "\n",
    "rec = TP / (TP + FN)\n",
    "print(f\"Recall: {rec}\")\n",
    "\n",
    "fscore = (2*prec*rec) / (prec + rec)\n",
    "print(f\"Fscore: {fscore}\\n\")"
   ]
  }
 ],
 "metadata": {
  "kernelspec": {
   "display_name": "PyTorch 1.12.0",
   "language": "python",
   "name": "pytorch-1.12.0"
  },
  "language_info": {
   "codemirror_mode": {
    "name": "ipython",
    "version": 3
   },
   "file_extension": ".py",
   "mimetype": "text/x-python",
   "name": "python",
   "nbconvert_exporter": "python",
   "pygments_lexer": "ipython3",
   "version": "3.9.13"
  }
 },
 "nbformat": 4,
 "nbformat_minor": 4
}
